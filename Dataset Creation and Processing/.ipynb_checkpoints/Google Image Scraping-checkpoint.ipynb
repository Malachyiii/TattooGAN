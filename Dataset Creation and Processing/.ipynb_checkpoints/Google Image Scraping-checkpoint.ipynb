{
 "cells": [
  {
   "cell_type": "code",
   "execution_count": 1,
   "metadata": {},
   "outputs": [],
   "source": [
    "#!pip3 install selenium bs4\n",
    "#!pip3 install --upgrade requests"
   ]
  },
  {
   "cell_type": "code",
   "execution_count": 2,
   "metadata": {},
   "outputs": [],
   "source": [
    "from selenium import webdriver\n",
    "from selenium.webdriver.common.keys import Keys\n",
    "from bs4 import BeautifulSoup\n",
    "\n",
    "import json\n",
    "import os\n",
    "import argparse\n",
    "\n",
    "import requests\n",
    "import urllib\n",
    "import urllib3\n",
    "from urllib3.exceptions import InsecureRequestWarning\n",
    "\n",
    "import datetime\n",
    "import time\n",
    "\n",
    "urllib3.disable_warnings(InsecureRequestWarning)\n",
    "\n",
    "maxcount = 10000\n",
    "\n",
    "chromedriver = r'C:\\Users\\mmoran\\Downloads\\chromedriver_win32\\chromedriver.exe'"
   ]
  },
  {
   "cell_type": "code",
   "execution_count": 3,
   "metadata": {},
   "outputs": [],
   "source": [
    "def download_google_staticimages(searchword1):\n",
    "\n",
    "    options = webdriver.ChromeOptions()\n",
    "    options.add_argument('--no-sandbox')\n",
    "    #options.add_argument('--headless')\n",
    "\n",
    "    try:\n",
    "        browser = webdriver.Chrome(chromedriver, options=options)\n",
    "    except Exception as e:\n",
    "        print(f'No found chromedriver in this environment.')\n",
    "        print(f'Install on your machine. exception: {e}')\n",
    "        sys.exit()\n",
    "\n",
    "    browser.set_window_size(1280, 1024)\n",
    "    \n",
    "\n",
    "    browser.close()\n",
    "    return count"
   ]
  },
  {
   "cell_type": "code",
   "execution_count": 5,
   "metadata": {},
   "outputs": [
    {
     "name": "stdout",
     "output_type": "stream",
     "text": [
      "[WinError 2] The system cannot find the file specified: 'Data'\n",
      "C:\\Users\\mmoran\\Documents\\Learning\\MIDS\\W251 - Deep Learning in the Cloud and at the Edge\\Final\\Tattoo-Model-Training\n"
     ]
    },
    {
     "name": "stderr",
     "output_type": "stream",
     "text": [
      "<ipython-input-3-c8cb1c821c2f>:8: DeprecationWarning: executable_path has been deprecated, please pass in a Service object\n",
      "  browser = webdriver.Chrome(chromedriver, options=options)\n"
     ]
    },
    {
     "name": "stdout",
     "output_type": "stream",
     "text": [
      "Getting you a lot of images. This may take a few moments...\n"
     ]
    },
    {
     "name": "stderr",
     "output_type": "stream",
     "text": [
      "<ipython-input-3-c8cb1c821c2f>:20: DeprecationWarning: find_element_by_* commands are deprecated. Please use find_element() instead\n",
      "  element = browser.find_element_by_tag_name('body')\n",
      "<ipython-input-3-c8cb1c821c2f>:29: DeprecationWarning: find_element_by_* commands are deprecated. Please use find_element() instead\n",
      "  browser.find_element_by_id('smb').click()\n"
     ]
    },
    {
     "name": "stdout",
     "output_type": "stream",
     "text": [
      "Reached end of page.\n",
      "Retry\n"
     ]
    },
    {
     "name": "stderr",
     "output_type": "stream",
     "text": [
      "<ipython-input-3-c8cb1c821c2f>:45: DeprecationWarning: find_element_by_* commands are deprecated. Please use find_element() instead\n",
      "  browser.find_element_by_xpath('//input[@value=\"Show more results\"]').click()\n",
      "<ipython-input-3-c8cb1c821c2f>:55: DeprecationWarning: find_element_by_* commands are deprecated. Please use find_element() instead\n",
      "  browser.find_element_by_id('smb').click()\n"
     ]
    },
    {
     "name": "stdout",
     "output_type": "stream",
     "text": [
      "\n",
      "\n",
      "Download completed. [Successful count = 1059].\n",
      "Total time is 342.131245136261 seconds.\n",
      "Getting you a lot of images. This may take a few moments...\n",
      "Reached end of page.\n",
      "Retry\n",
      "\n",
      "\n",
      "Download completed. [Successful count = 590].\n",
      "Total time is 213.13083481788635 seconds.\n",
      "Getting you a lot of images. This may take a few moments...\n",
      "Reached end of page.\n",
      "Retry\n",
      "\n",
      "\n",
      "Download completed. [Successful count = 811].\n",
      "Total time is 261.4506103992462 seconds.\n",
      "Getting you a lot of images. This may take a few moments...\n",
      "Reached end of page.\n",
      "Retry\n",
      "\n",
      "\n",
      "Download completed. [Successful count = 779].\n",
      "Total time is 260.97101187705994 seconds.\n",
      "Getting you a lot of images. This may take a few moments...\n",
      "Reached end of page.\n",
      "Retry\n",
      "\n",
      "\n",
      "Download completed. [Successful count = 839].\n",
      "Total time is 269.9692304134369 seconds.\n",
      "Getting you a lot of images. This may take a few moments...\n",
      "Reached end of page.\n",
      "Retry\n",
      "\n",
      "\n",
      "Download completed. [Successful count = 1031].\n",
      "Total time is 326.83597207069397 seconds.\n",
      "Getting you a lot of images. This may take a few moments...\n",
      "Reached end of page.\n",
      "Retry\n",
      "\n",
      "\n",
      "Download completed. [Successful count = 1035].\n",
      "Total time is 312.12264227867126 seconds.\n",
      "Getting you a lot of images. This may take a few moments...\n",
      "Reached end of page.\n",
      "Retry\n",
      "\n",
      "\n",
      "Download completed. [Successful count = 944].\n",
      "Total time is 292.77445006370544 seconds.\n",
      "Getting you a lot of images. This may take a few moments...\n",
      "Reached end of page.\n",
      "Retry\n",
      "\n",
      "\n",
      "Download completed. [Successful count = 791].\n",
      "Total time is 269.69881415367126 seconds.\n",
      "Getting you a lot of images. This may take a few moments...\n",
      "Reached end of page.\n",
      "Retry\n",
      "\n",
      "\n",
      "Download completed. [Successful count = 960].\n",
      "Total time is 301.76928424835205 seconds.\n",
      "Getting you a lot of images. This may take a few moments...\n",
      "Reached end of page.\n",
      "Retry\n",
      "\n",
      "\n",
      "Download completed. [Successful count = 1011].\n",
      "Total time is 308.9023768901825 seconds.\n",
      "Getting you a lot of images. This may take a few moments...\n",
      "Reached end of page.\n",
      "Retry\n",
      "\n",
      "\n",
      "Download completed. [Successful count = 1039].\n",
      "Total time is 337.91452836990356 seconds.\n",
      "Getting you a lot of images. This may take a few moments...\n",
      "Reached end of page.\n",
      "Retry\n",
      "\n",
      "\n",
      "Download completed. [Successful count = 1036].\n",
      "Total time is 339.04538011550903 seconds.\n",
      "Getting you a lot of images. This may take a few moments...\n",
      "Reached end of page.\n",
      "Retry\n",
      "\n",
      "\n",
      "Download completed. [Successful count = 937].\n",
      "Total time is 303.8083322048187 seconds.\n",
      "Getting you a lot of images. This may take a few moments...\n",
      "Reached end of page.\n",
      "Retry\n",
      "\n",
      "\n",
      "Download completed. [Successful count = 756].\n",
      "Total time is 454.43437671661377 seconds.\n",
      "Getting you a lot of images. This may take a few moments...\n",
      "Reached end of page.\n",
      "Retry\n",
      "\n",
      "\n",
      "Download completed. [Successful count = 704].\n",
      "Total time is 228.56490182876587 seconds.\n"
     ]
    }
   ],
   "source": [
    "searchterms = ['skull tattoo sketch', 'skull tattoo design', 'skull tattoo drawing', 'skull tattoo flash', 'skull tattoo outline', \n",
    "               'skull tattoo line art', 'skull aesthetic line art tattoos', 'skull tumblr aesthetic line art tattoos', \n",
    "               'skull pencil art tattoo drawing', 'skull tattoo artwork', 'skull tattoo art', 'skull illustration tattoo',\n",
    "              'skull tattoo sketch drawing ideas', 'black and white skull drawing', 'skull sketch', 'skull drawing']\n",
    "\n",
    "# Main block\n",
    "\n",
    "%cd Data\n",
    "\n",
    "dirs = \"skull\" \n",
    "\n",
    "if not os.path.exists(dirs):\n",
    "    os.mkdir(dirs)\n",
    "\n",
    "for i in searchterms:\n",
    "    t0 = time.time()\n",
    "    maxcount = 10000\n",
    "\n",
    "    count = download_google_staticimages(i)\n",
    "    t1 = time.time()\n",
    "    \n",
    "    total_time = t1 - t0\n",
    "    print(f'\\n')\n",
    "    print(f'Download completed. [Successful count = {count}].')\n",
    "    print(f'Total time is {str(total_time)} seconds.')"
   ]
  }
 ],
 "metadata": {
  "kernelspec": {
   "display_name": "Python 3",
   "language": "python",
   "name": "python3"
  },
  "language_info": {
   "codemirror_mode": {
    "name": "ipython",
    "version": 3
   },
   "file_extension": ".py",
   "mimetype": "text/x-python",
   "name": "python",
   "nbconvert_exporter": "python",
   "pygments_lexer": "ipython3",
   "version": "3.8.3"
  }
 },
 "nbformat": 4,
 "nbformat_minor": 4
}
