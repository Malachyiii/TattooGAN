{
  "nbformat": 4,
  "nbformat_minor": 0,
  "metadata": {
    "accelerator": "GPU",
    "colab": {
      "name": "Tattoo StyleGAN.ipynb",
      "provenance": [],
      "collapsed_sections": [],
      "machine_shape": "hm",
      "authorship_tag": "ABX9TyNDIh7s/0hVqI3QKfFITZ+s",
      "include_colab_link": true
    },
    "kernelspec": {
      "display_name": "Python 3",
      "name": "python3"
    },
    "language_info": {
      "name": "python"
    }
  },
  "cells": [
    {
      "cell_type": "markdown",
      "metadata": {
        "id": "view-in-github",
        "colab_type": "text"
      },
      "source": [
        "<a href=\"https://colab.research.google.com/github/Malachyiii/TattooGAN/blob/main/Tattoo_StyleGAN.ipynb\" target=\"_parent\"><img src=\"https://colab.research.google.com/assets/colab-badge.svg\" alt=\"Open In Colab\"/></a>"
      ]
    },
    {
      "cell_type": "code",
      "metadata": {
        "colab": {
          "base_uri": "https://localhost:8080/"
        },
        "id": "4UrOjEGr0zM1",
        "outputId": "43dbf68f-cacc-4ec3-9421-f3b3a5c8e8d7"
      },
      "source": [
        "from google.colab import drive\n",
        "drive.mount('/content/drive', force_remount=True)"
      ],
      "execution_count": null,
      "outputs": [
        {
          "output_type": "stream",
          "name": "stdout",
          "text": [
            "Mounted at /content/drive\n"
          ]
        }
      ]
    },
    {
      "cell_type": "code",
      "metadata": {
        "colab": {
          "base_uri": "https://localhost:8080/"
        },
        "id": "GjLRnxR904u6",
        "outputId": "39294fd1-956c-4403-f8c0-03bd523e92ac"
      },
      "source": [
        "%tensorflow_version 1.x\n",
        "import tensorflow\n",
        "print(tensorflow.__version__)"
      ],
      "execution_count": null,
      "outputs": [
        {
          "output_type": "stream",
          "name": "stdout",
          "text": [
            "TensorFlow 1.x selected.\n",
            "1.15.2\n"
          ]
        }
      ]
    },
    {
      "cell_type": "code",
      "metadata": {
        "colab": {
          "base_uri": "https://localhost:8080/"
        },
        "id": "MzxN1VBJ1Aqt",
        "outputId": "7e4c062b-0882-4b11-b1cb-8980556b3909"
      },
      "source": [
        "!git clone https://github.com/NVlabs/stylegan.git\n",
        "!ls /content/stylegan/"
      ],
      "execution_count": null,
      "outputs": [
        {
          "output_type": "stream",
          "name": "stdout",
          "text": [
            "Cloning into 'stylegan'...\n",
            "remote: Enumerating objects: 89, done.\u001b[K\n",
            "remote: Counting objects: 100% (3/3), done.\u001b[K\n",
            "remote: Compressing objects: 100% (3/3), done.\u001b[K\n",
            "remote: Total 89 (delta 0), reused 1 (delta 0), pack-reused 86\u001b[K\n",
            "Unpacking objects: 100% (89/89), done.\n",
            "config.py\t     LICENSE.txt\t    run_metrics.py\n",
            "dataset_tool.py      metrics\t\t    stylegan-teaser.png\n",
            "dnnlib\t\t     pretrained_example.py  training\n",
            "generate_figures.py  README.md\t\t    train.py\n"
          ]
        }
      ]
    },
    {
      "cell_type": "code",
      "metadata": {
        "id": "NvMnijeF1GRx"
      },
      "source": [
        "import sys\n",
        "sys.path.insert(0, \"/content/stylegan\")\n",
        "import dnnlib"
      ],
      "execution_count": null,
      "outputs": []
    },
    {
      "cell_type": "code",
      "metadata": {
        "colab": {
          "base_uri": "https://localhost:8080/"
        },
        "id": "wZvxAF-w1Ooi",
        "outputId": "66867d96-e59c-45ea-eec5-e9a6974ba3e7"
      },
      "source": [
        "#making a new folder in this particular notebook and moving the images together\n",
        "!mkdir '/content/LocalData'\n",
        "random_amount = 3000\n",
        "\n",
        "import os\n",
        "import shutil\n",
        "import random\n",
        "from tqdm import tqdm\n",
        "\n",
        "#how many images do we have\n",
        "files = [file for file in os.listdir('/content/drive/MyDrive/Star_Training_Set/Tattoo') if os.path.isfile(os.path.join('/content/drive/MyDrive/Star_Training_Set/Tattoo', file))]\n",
        "\n",
        "print(len(files))"
      ],
      "execution_count": null,
      "outputs": [
        {
          "output_type": "stream",
          "name": "stdout",
          "text": [
            "mkdir: cannot create directory ‘/content/LocalData’: File exists\n",
            "30521\n"
          ]
        }
      ]
    },
    {
      "cell_type": "code",
      "metadata": {
        "colab": {
          "base_uri": "https://localhost:8080/"
        },
        "id": "vYE41otR5cPx",
        "outputId": "57c3f530-723d-43a0-fe8f-fd495c05a8a7"
      },
      "source": [
        "for x in tqdm(range(random_amount), desc ='copy images ...'):\n",
        "    if len(files) == 0:\n",
        "        break\n",
        "    else:\n",
        "        selection = random.randint(0, len(files)-1) \n",
        "        file = files.pop(selection)\n",
        "        shutil.copyfile(os.path.join('/content/drive/MyDrive/Star_Training_Set/Tattoo', file), os.path.join('/content/LocalData', file))\n"
      ],
      "execution_count": null,
      "outputs": [
        {
          "output_type": "stream",
          "name": "stderr",
          "text": [
            "copy images ...: 100%|██████████| 3000/3000 [15:42<00:00,  3.18it/s]\n"
          ]
        }
      ]
    },
    {
      "cell_type": "code",
      "metadata": {
        "colab": {
          "base_uri": "https://localhost:8080/"
        },
        "id": "Y10VQm1nDnzv",
        "outputId": "111285e2-c59f-4196-fe70-50e78562e540"
      },
      "source": [
        "!pip install python-resize-image"
      ],
      "execution_count": null,
      "outputs": [
        {
          "output_type": "stream",
          "name": "stdout",
          "text": [
            "Collecting python-resize-image\n",
            "  Downloading python_resize_image-1.1.20-py2.py3-none-any.whl (8.4 kB)\n",
            "Requirement already satisfied: requests>=2.19.1 in /usr/local/lib/python3.7/dist-packages (from python-resize-image) (2.23.0)\n",
            "Requirement already satisfied: Pillow>=5.1.0 in /usr/local/lib/python3.7/dist-packages (from python-resize-image) (7.1.2)\n",
            "Requirement already satisfied: certifi>=2017.4.17 in /usr/local/lib/python3.7/dist-packages (from requests>=2.19.1->python-resize-image) (2021.10.8)\n",
            "Requirement already satisfied: urllib3!=1.25.0,!=1.25.1,<1.26,>=1.21.1 in /usr/local/lib/python3.7/dist-packages (from requests>=2.19.1->python-resize-image) (1.24.3)\n",
            "Requirement already satisfied: idna<3,>=2.5 in /usr/local/lib/python3.7/dist-packages (from requests>=2.19.1->python-resize-image) (2.10)\n",
            "Requirement already satisfied: chardet<4,>=3.0.2 in /usr/local/lib/python3.7/dist-packages (from requests>=2.19.1->python-resize-image) (3.0.4)\n",
            "Installing collected packages: python-resize-image\n",
            "Successfully installed python-resize-image-1.1.20\n"
          ]
        }
      ]
    },
    {
      "cell_type": "code",
      "metadata": {
        "id": "3TQDWrpPEExt"
      },
      "source": [
        "#!rm '/content/LocalData/scorpion tattoo designimg_478 (1)2.jpg'"
      ],
      "execution_count": null,
      "outputs": []
    },
    {
      "cell_type": "code",
      "metadata": {
        "colab": {
          "base_uri": "https://localhost:8080/"
        },
        "id": "_nAw6rM51weG",
        "outputId": "032210db-51f5-41cb-8cb4-0a72701aaeb6"
      },
      "source": [
        "import cv2\n",
        "from PIL import Image\n",
        "from resizeimage import resizeimage\n",
        "path = '/content/LocalData/'\n",
        "for filename in tqdm(os.listdir(path),desc ='reading images ...'):\n",
        "  image = Image.open(path+filename)\n",
        "  image = image.resize((64,64))\n",
        "  image.save(path+filename, image.format)"
      ],
      "execution_count": null,
      "outputs": [
        {
          "output_type": "stream",
          "name": "stderr",
          "text": [
            "reading images ...: 100%|██████████| 3000/3000 [00:01<00:00, 1756.10it/s]\n"
          ]
        }
      ]
    },
    {
      "cell_type": "code",
      "metadata": {
        "colab": {
          "base_uri": "https://localhost:8080/"
        },
        "id": "5_gWpRe21z6E",
        "outputId": "e8382be3-6300-40bc-f1ae-ff39d7aa6079"
      },
      "source": [
        "!python /content/stylegan/dataset_tool.py create_from_images /content/stylegan/datasets/custom-dataset /content/LocalData"
      ],
      "execution_count": null,
      "outputs": [
        {
          "output_type": "stream",
          "name": "stdout",
          "text": [
            "WARNING:tensorflow:From /content/stylegan/dnnlib/tflib/tfutil.py:34: The name tf.Dimension is deprecated. Please use tf.compat.v1.Dimension instead.\n",
            "\n",
            "WARNING:tensorflow:From /content/stylegan/dnnlib/tflib/tfutil.py:74: The name tf.variable_scope is deprecated. Please use tf.compat.v1.variable_scope instead.\n",
            "\n",
            "WARNING:tensorflow:From /content/stylegan/dnnlib/tflib/tfutil.py:128: The name tf.Session is deprecated. Please use tf.compat.v1.Session instead.\n",
            "\n",
            "Loading images from \"/content/LocalData\"\n",
            "Creating dataset \"/content/stylegan/datasets/custom-dataset\"\n",
            "0 / 3000\rWARNING:tensorflow:From /content/stylegan/dataset_tool.py:75: The name tf.python_io.TFRecordOptions is deprecated. Please use tf.io.TFRecordOptions instead.\n",
            "\n",
            "WARNING:tensorflow:From /content/stylegan/dataset_tool.py:75: The name tf.python_io.TFRecordCompressionType is deprecated. Please use tf.compat.v1.python_io.TFRecordCompressionType instead.\n",
            "\n",
            "WARNING:tensorflow:From /content/stylegan/dataset_tool.py:78: The name tf.python_io.TFRecordWriter is deprecated. Please use tf.io.TFRecordWriter instead.\n",
            "\n",
            "/content/stylegan/dataset_tool.py:87: DeprecationWarning: tostring() is deprecated. Use tobytes() instead.\n",
            "  'data': tf.train.Feature(bytes_list=tf.train.BytesList(value=[quant.tostring()]))}))\n",
            "Added 3000 images.\n"
          ]
        }
      ]
    },
    {
      "cell_type": "markdown",
      "metadata": {
        "id": "xhhjWiz0CCoN"
      },
      "source": [
        "1. Now go to the stylegan folder and open the train.py file and make the following changes \n",
        "\n",
        "  - Replace line no 37 below  \n",
        "    - from: desc += '-ffhq'; dataset = EasyDict(tfrecord_dir='ffhq'); train.mirror_augment = True   \n",
        "    - TO: desc += '-/content/stylegan/datasets/custom-dataset'= EasyDict(tfrecord_dir='/content/stylegan/datasets/custom-dataset'); train.mirror_augment = True\n",
        "  - uncomment line no 46 below # Number of GPUs. and comment line no 49\n",
        "  - line number 52, train.total_kimg = 25000 is recommended for complete GAN training of 1024x1024 resolution image. I have set it to 5000. Training will stop after this much iterations (5000 takes about 8 hours)\n",
        " \n",
        "\n",
        "2. Before we start the GAN training, couple of more change needs to be done.  we need to tell which pickled pre-trained model will be used for training our own custom dataset. Stylegan also uses inception-v3  so, we need to get the inception_v3_features.pkl as well\n",
        "\n",
        "  - If you want, change the pickle file in stylegan/metrics/frechet_inception_distance.py\n",
        "\n",
        "  - It should say:\n",
        "\n",
        "  - inception = misc.load_pkl('https://drive.google.com/uc?id=1MzTY44rLToO5APn8TZmfR7_ENSe5aZUn') \n",
        "\n",
        "  - If you want, you can download a different pckl file from : https://drive.google.com/drive/folders/1MASQyN5m0voPcx7-9K0r5gObhvvPups7 and replace it with:\n",
        "\n",
        "  - inception = misc.load_pkl(''YOUR G-Drive inception-v3_features.pkl LINK url') \n",
        "\n",
        "3. We are now all set to go for training our own stylegan"
      ]
    },
    {
      "cell_type": "code",
      "metadata": {
        "colab": {
          "base_uri": "https://localhost:8080/"
        },
        "id": "wULZ72jZ_6iK",
        "outputId": "6b418cc6-f454-4be1-80f8-5e4e4a76afb8"
      },
      "source": [
        "! python /content/stylegan/train.py"
      ],
      "execution_count": null,
      "outputs": [
        {
          "output_type": "stream",
          "name": "stdout",
          "text": [
            "WARNING:tensorflow:From /content/stylegan/dnnlib/tflib/tfutil.py:34: The name tf.Dimension is deprecated. Please use tf.compat.v1.Dimension instead.\n",
            "\n",
            "WARNING:tensorflow:From /content/stylegan/dnnlib/tflib/tfutil.py:74: The name tf.variable_scope is deprecated. Please use tf.compat.v1.variable_scope instead.\n",
            "\n",
            "WARNING:tensorflow:From /content/stylegan/dnnlib/tflib/tfutil.py:128: The name tf.Session is deprecated. Please use tf.compat.v1.Session instead.\n",
            "\n",
            "Creating the run dir root: results\n",
            "Creating the run dir: results/00000-sgan-/content/stylegan/datasets/custom-dataset-1gpu\n",
            "Copying files to the run dir\n",
            "dnnlib: Running training.training_loop.training_loop() on localhost...\n",
            "WARNING:tensorflow:From /content/stylegan/dnnlib/tflib/tfutil.py:97: The name tf.get_default_session is deprecated. Please use tf.compat.v1.get_default_session instead.\n",
            "\n",
            "WARNING:tensorflow:From /content/stylegan/dnnlib/tflib/tfutil.py:109: The name tf.set_random_seed is deprecated. Please use tf.compat.v1.set_random_seed instead.\n",
            "\n",
            "WARNING:tensorflow:From /content/stylegan/dnnlib/tflib/tfutil.py:132: The name tf.ConfigProto is deprecated. Please use tf.compat.v1.ConfigProto instead.\n",
            "\n",
            "Streaming data using training.dataset.TFRecordDataset...\n",
            "WARNING:tensorflow:From /content/stylegan/training/dataset.py:75: The name tf.python_io.TFRecordOptions is deprecated. Please use tf.io.TFRecordOptions instead.\n",
            "\n",
            "WARNING:tensorflow:From /content/stylegan/training/dataset.py:75: The name tf.python_io.TFRecordCompressionType is deprecated. Please use tf.compat.v1.python_io.TFRecordCompressionType instead.\n",
            "\n",
            "WARNING:tensorflow:From /content/stylegan/training/dataset.py:76: tf_record_iterator (from tensorflow.python.lib.io.tf_record) is deprecated and will be removed in a future version.\n",
            "Instructions for updating:\n",
            "Use eager execution and: \n",
            "`tf.data.TFRecordDataset(path)`\n",
            "WARNING:tensorflow:From /content/stylegan/training/dataset.py:114: The name tf.placeholder is deprecated. Please use tf.compat.v1.placeholder instead.\n",
            "\n",
            "WARNING:tensorflow:From /content/stylegan/dnnlib/tflib/tfutil.py:196: The name tf.get_default_graph is deprecated. Please use tf.compat.v1.get_default_graph instead.\n",
            "\n",
            "WARNING:tensorflow:From /content/stylegan/dnnlib/tflib/tfutil.py:200: The name tf.assign is deprecated. Please use tf.compat.v1.assign instead.\n",
            "\n",
            "WARNING:tensorflow:Entity <function parse_tfrecord_tf at 0x7fd6171e3c20> could not be transformed and will be executed as-is. Please report this to the AutoGraph team. When filing the bug, set the verbosity to 10 (on Linux, `export AUTOGRAPH_VERBOSITY=10`) and attach the full output. Cause: module 'gast' has no attribute 'Index'\n",
            "WARNING:tensorflow:From /content/stylegan/training/dataset.py:21: The name tf.parse_single_example is deprecated. Please use tf.io.parse_single_example instead.\n",
            "\n",
            "WARNING:tensorflow:From /content/stylegan/training/dataset.py:22: The name tf.FixedLenFeature is deprecated. Please use tf.io.FixedLenFeature instead.\n",
            "\n",
            "WARNING:tensorflow:From /tensorflow-1.15.2/python3.7/tensorflow_core/python/data/util/random_seed.py:58: where (from tensorflow.python.ops.array_ops) is deprecated and will be removed in a future version.\n",
            "Instructions for updating:\n",
            "Use tf.where in 2.0, which has the same broadcast rule as np.where\n",
            "WARNING:tensorflow:From /content/stylegan/training/dataset.py:132: The name tf.data.Iterator is deprecated. Please use tf.compat.v1.data.Iterator instead.\n",
            "\n",
            "WARNING:tensorflow:From /content/stylegan/training/dataset.py:132: DatasetV1.output_types (from tensorflow.python.data.ops.dataset_ops) is deprecated and will be removed in a future version.\n",
            "Instructions for updating:\n",
            "Use `tf.compat.v1.data.get_output_types(dataset)`.\n",
            "WARNING:tensorflow:From /content/stylegan/training/dataset.py:132: DatasetV1.output_shapes (from tensorflow.python.data.ops.dataset_ops) is deprecated and will be removed in a future version.\n",
            "Instructions for updating:\n",
            "Use `tf.compat.v1.data.get_output_shapes(dataset)`.\n",
            "WARNING:tensorflow:From /tensorflow-1.15.2/python3.7/tensorflow_core/python/data/ops/iterator_ops.py:347: Iterator.output_types (from tensorflow.python.data.ops.iterator_ops) is deprecated and will be removed in a future version.\n",
            "Instructions for updating:\n",
            "Use `tf.compat.v1.data.get_output_types(iterator)`.\n",
            "WARNING:tensorflow:From /tensorflow-1.15.2/python3.7/tensorflow_core/python/data/ops/iterator_ops.py:348: Iterator.output_shapes (from tensorflow.python.data.ops.iterator_ops) is deprecated and will be removed in a future version.\n",
            "Instructions for updating:\n",
            "Use `tf.compat.v1.data.get_output_shapes(iterator)`.\n",
            "WARNING:tensorflow:From /tensorflow-1.15.2/python3.7/tensorflow_core/python/data/ops/iterator_ops.py:350: Iterator.output_classes (from tensorflow.python.data.ops.iterator_ops) is deprecated and will be removed in a future version.\n",
            "Instructions for updating:\n",
            "Use `tf.compat.v1.data.get_output_classes(iterator)`.\n",
            "Dataset shape = [3, 64, 64]\n",
            "Dynamic range = [0, 255]\n",
            "Label size    = 0\n",
            "Constructing networks...\n",
            "WARNING:tensorflow:From /content/stylegan/dnnlib/tflib/network.py:150: The name tf.AUTO_REUSE is deprecated. Please use tf.compat.v1.AUTO_REUSE instead.\n",
            "\n",
            "WARNING:tensorflow:From /content/stylegan/dnnlib/tflib/tfutil.py:76: The name tf.VariableScope is deprecated. Please use tf.compat.v1.VariableScope instead.\n",
            "\n",
            "WARNING:tensorflow:From /content/stylegan/dnnlib/tflib/network.py:151: The name tf.get_variable_scope is deprecated. Please use tf.compat.v1.get_variable_scope instead.\n",
            "\n",
            "WARNING:tensorflow:From /content/stylegan/training/networks_stylegan.py:479: The name tf.get_variable is deprecated. Please use tf.compat.v1.get_variable instead.\n",
            "\n",
            "WARNING:tensorflow:From /content/stylegan/training/networks_stylegan.py:254: The name tf.rsqrt is deprecated. Please use tf.math.rsqrt instead.\n",
            "\n",
            "WARNING:tensorflow:From /content/stylegan/dnnlib/tflib/network.py:182: The name tf.global_variables is deprecated. Please use tf.compat.v1.global_variables instead.\n",
            "\n",
            "\n",
            "G                           Params    OutputShape       WeightShape     \n",
            "---                         ---       ---               ---             \n",
            "latents_in                  -         (?, 512)          -               \n",
            "labels_in                   -         (?, 0)            -               \n",
            "lod                         -         ()                -               \n",
            "dlatent_avg                 -         (512,)            -               \n",
            "G_mapping/latents_in        -         (?, 512)          -               \n",
            "G_mapping/labels_in         -         (?, 0)            -               \n",
            "G_mapping/PixelNorm         -         (?, 512)          -               \n",
            "G_mapping/Dense0            262656    (?, 512)          (512, 512)      \n",
            "G_mapping/Dense1            262656    (?, 512)          (512, 512)      \n",
            "G_mapping/Dense2            262656    (?, 512)          (512, 512)      \n",
            "G_mapping/Dense3            262656    (?, 512)          (512, 512)      \n",
            "G_mapping/Dense4            262656    (?, 512)          (512, 512)      \n",
            "G_mapping/Dense5            262656    (?, 512)          (512, 512)      \n",
            "G_mapping/Dense6            262656    (?, 512)          (512, 512)      \n",
            "G_mapping/Dense7            262656    (?, 512)          (512, 512)      \n",
            "G_mapping/Broadcast         -         (?, 10, 512)      -               \n",
            "G_mapping/dlatents_out      -         (?, 10, 512)      -               \n",
            "Truncation                  -         (?, 10, 512)      -               \n",
            "G_synthesis/dlatents_in     -         (?, 10, 512)      -               \n",
            "G_synthesis/4x4/Const       534528    (?, 512, 4, 4)    (512,)          \n",
            "G_synthesis/4x4/Conv        2885632   (?, 512, 4, 4)    (3, 3, 512, 512)\n",
            "G_synthesis/ToRGB_lod4      1539      (?, 3, 4, 4)      (1, 1, 512, 3)  \n",
            "G_synthesis/8x8/Conv0_up    2885632   (?, 512, 8, 8)    (3, 3, 512, 512)\n",
            "G_synthesis/8x8/Conv1       2885632   (?, 512, 8, 8)    (3, 3, 512, 512)\n",
            "G_synthesis/ToRGB_lod3      1539      (?, 3, 8, 8)      (1, 1, 512, 3)  \n",
            "G_synthesis/Upscale2D       -         (?, 3, 8, 8)      -               \n",
            "G_synthesis/Grow_lod3       -         (?, 3, 8, 8)      -               \n",
            "G_synthesis/16x16/Conv0_up  2885632   (?, 512, 16, 16)  (3, 3, 512, 512)\n",
            "G_synthesis/16x16/Conv1     2885632   (?, 512, 16, 16)  (3, 3, 512, 512)\n",
            "G_synthesis/ToRGB_lod2      1539      (?, 3, 16, 16)    (1, 1, 512, 3)  \n",
            "G_synthesis/Upscale2D_1     -         (?, 3, 16, 16)    -               \n",
            "G_synthesis/Grow_lod2       -         (?, 3, 16, 16)    -               \n",
            "G_synthesis/32x32/Conv0_up  2885632   (?, 512, 32, 32)  (3, 3, 512, 512)\n",
            "G_synthesis/32x32/Conv1     2885632   (?, 512, 32, 32)  (3, 3, 512, 512)\n",
            "G_synthesis/ToRGB_lod1      1539      (?, 3, 32, 32)    (1, 1, 512, 3)  \n",
            "G_synthesis/Upscale2D_2     -         (?, 3, 32, 32)    -               \n",
            "G_synthesis/Grow_lod1       -         (?, 3, 32, 32)    -               \n",
            "G_synthesis/64x64/Conv0_up  1442816   (?, 256, 64, 64)  (3, 3, 512, 256)\n",
            "G_synthesis/64x64/Conv1     852992    (?, 256, 64, 64)  (3, 3, 256, 256)\n",
            "G_synthesis/ToRGB_lod0      771       (?, 3, 64, 64)    (1, 1, 256, 3)  \n",
            "G_synthesis/Upscale2D_3     -         (?, 3, 64, 64)    -               \n",
            "G_synthesis/Grow_lod0       -         (?, 3, 64, 64)    -               \n",
            "G_synthesis/images_out      -         (?, 3, 64, 64)    -               \n",
            "G_synthesis/lod             -         ()                -               \n",
            "G_synthesis/noise0          -         (1, 1, 4, 4)      -               \n",
            "G_synthesis/noise1          -         (1, 1, 4, 4)      -               \n",
            "G_synthesis/noise2          -         (1, 1, 8, 8)      -               \n",
            "G_synthesis/noise3          -         (1, 1, 8, 8)      -               \n",
            "G_synthesis/noise4          -         (1, 1, 16, 16)    -               \n",
            "G_synthesis/noise5          -         (1, 1, 16, 16)    -               \n",
            "G_synthesis/noise6          -         (1, 1, 32, 32)    -               \n",
            "G_synthesis/noise7          -         (1, 1, 32, 32)    -               \n",
            "G_synthesis/noise8          -         (1, 1, 64, 64)    -               \n",
            "G_synthesis/noise9          -         (1, 1, 64, 64)    -               \n",
            "images_out                  -         (?, 3, 64, 64)    -               \n",
            "---                         ---       ---               ---             \n",
            "Total                       25137935                                    \n",
            "\n",
            "\n",
            "D                    Params    OutputShape       WeightShape     \n",
            "---                  ---       ---               ---             \n",
            "images_in            -         (?, 3, 64, 64)    -               \n",
            "labels_in            -         (?, 0)            -               \n",
            "lod                  -         ()                -               \n",
            "FromRGB_lod0         1024      (?, 256, 64, 64)  (1, 1, 3, 256)  \n",
            "64x64/Conv0          590080    (?, 256, 64, 64)  (3, 3, 256, 256)\n",
            "64x64/Conv1_down     1180160   (?, 512, 32, 32)  (3, 3, 256, 512)\n",
            "Downscale2D          -         (?, 3, 32, 32)    -               \n",
            "FromRGB_lod1         2048      (?, 512, 32, 32)  (1, 1, 3, 512)  \n",
            "Grow_lod0            -         (?, 512, 32, 32)  -               \n",
            "32x32/Conv0          2359808   (?, 512, 32, 32)  (3, 3, 512, 512)\n",
            "32x32/Conv1_down     2359808   (?, 512, 16, 16)  (3, 3, 512, 512)\n",
            "Downscale2D_1        -         (?, 3, 16, 16)    -               \n",
            "FromRGB_lod2         2048      (?, 512, 16, 16)  (1, 1, 3, 512)  \n",
            "Grow_lod1            -         (?, 512, 16, 16)  -               \n",
            "16x16/Conv0          2359808   (?, 512, 16, 16)  (3, 3, 512, 512)\n",
            "16x16/Conv1_down     2359808   (?, 512, 8, 8)    (3, 3, 512, 512)\n",
            "Downscale2D_2        -         (?, 3, 8, 8)      -               \n",
            "FromRGB_lod3         2048      (?, 512, 8, 8)    (1, 1, 3, 512)  \n",
            "Grow_lod2            -         (?, 512, 8, 8)    -               \n",
            "8x8/Conv0            2359808   (?, 512, 8, 8)    (3, 3, 512, 512)\n",
            "8x8/Conv1_down       2359808   (?, 512, 4, 4)    (3, 3, 512, 512)\n",
            "Downscale2D_3        -         (?, 3, 4, 4)      -               \n",
            "FromRGB_lod4         2048      (?, 512, 4, 4)    (1, 1, 3, 512)  \n",
            "Grow_lod3            -         (?, 512, 4, 4)    -               \n",
            "4x4/MinibatchStddev  -         (?, 513, 4, 4)    -               \n",
            "4x4/Conv             2364416   (?, 512, 4, 4)    (3, 3, 513, 512)\n",
            "4x4/Dense0           4194816   (?, 512)          (8192, 512)     \n",
            "4x4/Dense1           513       (?, 1)            (512, 1)        \n",
            "scores_out           -         (?, 1)            -               \n",
            "---                  ---       ---               ---             \n",
            "Total                22498049                                    \n",
            "\n",
            "Building TensorFlow graph...\n",
            "WARNING:tensorflow:From /content/stylegan/training/training_loop.py:167: div (from tensorflow.python.ops.math_ops) is deprecated and will be removed in a future version.\n",
            "Instructions for updating:\n",
            "Deprecated in favor of operator or tf.math.divide.\n",
            "WARNING:tensorflow:From /content/stylegan/dnnlib/util.py:242: The name tf.train.AdamOptimizer is deprecated. Please use tf.compat.v1.train.AdamOptimizer instead.\n",
            "\n",
            "WARNING:tensorflow:From /content/stylegan/training/training_loop.py:34: The name tf.random_uniform is deprecated. Please use tf.random.uniform instead.\n",
            "\n",
            "WARNING:tensorflow:From /content/stylegan/training/loss.py:132: The name tf.random_normal is deprecated. Please use tf.random.normal instead.\n",
            "\n",
            "WARNING:tensorflow:From /content/stylegan/training/networks_stylegan.py:90: The name tf.nn.avg_pool is deprecated. Please use tf.nn.avg_pool2d instead.\n",
            "\n",
            "WARNING:tensorflow:From /content/stylegan/dnnlib/tflib/autosummary.py:61: The name tf.is_finite is deprecated. Please use tf.math.is_finite instead.\n",
            "\n",
            "WARNING:tensorflow:From /content/stylegan/dnnlib/tflib/autosummary.py:65: The name tf.is_variable_initialized is deprecated. Please use tf.compat.v1.is_variable_initialized instead.\n",
            "\n",
            "WARNING:tensorflow:From /content/stylegan/dnnlib/tflib/autosummary.py:65: The name tf.assign_add is deprecated. Please use tf.compat.v1.assign_add instead.\n",
            "\n",
            "WARNING:tensorflow:From /content/stylegan/dnnlib/tflib/optimizer.py:98: The name tf.train.Optimizer is deprecated. Please use tf.compat.v1.train.Optimizer instead.\n",
            "\n",
            "WARNING:tensorflow:\n",
            "The TensorFlow contrib module will not be included in TensorFlow 2.0.\n",
            "For more information, please see:\n",
            "  * https://github.com/tensorflow/community/blob/master/rfcs/20180907-contrib-sunset.md\n",
            "  * https://github.com/tensorflow/addons\n",
            "  * https://github.com/tensorflow/io (for I/O related ops)\n",
            "If you depend on functionality not listed there, please file an issue.\n",
            "\n",
            "Setting up snapshot image grid...\n",
            "Setting up run dir...\n",
            "WARNING:tensorflow:From /content/stylegan/training/training_loop.py:202: The name tf.summary.FileWriter is deprecated. Please use tf.compat.v1.summary.FileWriter instead.\n",
            "\n",
            "Training...\n",
            "\n",
            "tick 1     kimg 140.3    lod 3.00  minibatch 128  time 2m 51s       sec/tick 139.9   sec/kimg 1.00    maintenance 31.4   gpumem 3.6 \n",
            "Downloading https://drive.google.com/uc?id=1MzTY44rLToO5APn8TZmfR7_ENSe5aZUn ... done\n",
            "network-snapshot-000140        time 7m 40s       fid50k 284.1309  \n",
            "WARNING:tensorflow:From /content/stylegan/dnnlib/tflib/autosummary.py:137: The name tf.summary.scalar is deprecated. Please use tf.compat.v1.summary.scalar instead.\n",
            "\n",
            "WARNING:tensorflow:From /content/stylegan/dnnlib/tflib/autosummary.py:182: The name tf.summary.merge_all is deprecated. Please use tf.compat.v1.summary.merge_all instead.\n",
            "\n",
            "tick 2     kimg 280.6    lod 3.00  minibatch 128  time 12m 57s      sec/tick 136.2   sec/kimg 0.97    maintenance 469.5  gpumem 3.6 \n",
            "tick 3     kimg 420.9    lod 3.00  minibatch 128  time 15m 14s      sec/tick 136.9   sec/kimg 0.98    maintenance 0.4    gpumem 3.6 \n",
            "tick 4     kimg 561.2    lod 3.00  minibatch 128  time 17m 31s      sec/tick 136.4   sec/kimg 0.97    maintenance 0.5    gpumem 3.6 \n",
            "tick 5     kimg 681.5    lod 2.87  minibatch 128  time 22m 03s      sec/tick 271.6   sec/kimg 2.26    maintenance 0.4    gpumem 4.4 \n",
            "tick 6     kimg 801.8    lod 2.66  minibatch 128  time 27m 38s      sec/tick 334.1   sec/kimg 2.78    maintenance 0.6    gpumem 4.4 \n",
            "tick 7     kimg 922.1    lod 2.46  minibatch 128  time 33m 13s      sec/tick 334.3   sec/kimg 2.78    maintenance 0.6    gpumem 4.4 \n",
            "tick 8     kimg 1042.4   lod 2.26  minibatch 128  time 38m 48s      sec/tick 334.5   sec/kimg 2.78    maintenance 0.6    gpumem 4.4 \n",
            "tick 9     kimg 1162.8   lod 2.06  minibatch 128  time 44m 23s      sec/tick 334.5   sec/kimg 2.78    maintenance 0.6    gpumem 4.4 \n",
            "tick 10    kimg 1283.1   lod 2.00  minibatch 128  time 49m 54s      sec/tick 330.7   sec/kimg 2.75    maintenance 0.6    gpumem 4.4 \n",
            "network-snapshot-001283        time 4m 02s       fid50k 290.1000  \n",
            "tick 11    kimg 1403.4   lod 2.00  minibatch 128  time 59m 27s      sec/tick 329.1   sec/kimg 2.73    maintenance 243.2  gpumem 4.4 \n",
            "tick 12    kimg 1523.7   lod 2.00  minibatch 128  time 1h 04m 56s   sec/tick 329.0   sec/kimg 2.73    maintenance 0.6    gpumem 4.4 \n",
            "tick 13    kimg 1644.0   lod 2.00  minibatch 128  time 1h 10m 25s   sec/tick 328.4   sec/kimg 2.73    maintenance 0.6    gpumem 4.4 \n",
            "tick 14    kimg 1764.4   lod 2.00  minibatch 128  time 1h 15m 55s   sec/tick 328.7   sec/kimg 2.73    maintenance 0.6    gpumem 4.4 \n",
            "tick 15    kimg 1864.4   lod 1.89  minibatch 64   time 1h 28m 41s   sec/tick 765.6   sec/kimg 7.65    maintenance 0.6    gpumem 4.8 \n",
            "tick 16    kimg 1964.5   lod 1.73  minibatch 64   time 1h 45m 58s   sec/tick 1035.4  sec/kimg 10.34   maintenance 1.8    gpumem 4.8 \n",
            "tick 17    kimg 2064.6   lod 1.56  minibatch 64   time 2h 03m 15s   sec/tick 1035.1  sec/kimg 10.34   maintenance 1.9    gpumem 4.8 \n",
            "tick 18    kimg 2164.7   lod 1.39  minibatch 64   time 2h 20m 31s   sec/tick 1033.6  sec/kimg 10.33   maintenance 1.9    gpumem 4.8 \n",
            "tick 19    kimg 2264.8   lod 1.23  minibatch 64   time 2h 37m 46s   sec/tick 1033.3  sec/kimg 10.32   maintenance 1.9    gpumem 4.8 \n",
            "tick 20    kimg 2364.9   lod 1.06  minibatch 64   time 2h 55m 01s   sec/tick 1033.2  sec/kimg 10.32   maintenance 1.9    gpumem 4.8 \n",
            "network-snapshot-002364        time 4m 49s       fid50k 245.1068  \n",
            "tick 21    kimg 2465.0   lod 1.00  minibatch 64   time 3h 16m 54s   sec/tick 1022.6  sec/kimg 10.22   maintenance 290.9  gpumem 4.8 \n",
            "tick 22    kimg 2565.1   lod 1.00  minibatch 64   time 3h 33m 53s   sec/tick 1016.8  sec/kimg 10.16   maintenance 1.8    gpumem 4.8 \n",
            "tick 23    kimg 2665.2   lod 1.00  minibatch 64   time 3h 50m 52s   sec/tick 1017.1  sec/kimg 10.16   maintenance 1.8    gpumem 4.8 \n",
            "tick 24    kimg 2765.3   lod 1.00  minibatch 64   time 4h 07m 50s   sec/tick 1016.1  sec/kimg 10.15   maintenance 1.8    gpumem 4.8 \n",
            "tick 25    kimg 2865.4   lod 1.00  minibatch 64   time 4h 24m 47s   sec/tick 1015.5  sec/kimg 10.14   maintenance 1.8    gpumem 4.8 \n",
            "tick 26    kimg 2965.5   lod 1.00  minibatch 64   time 4h 41m 45s   sec/tick 1016.4  sec/kimg 10.15   maintenance 1.8    gpumem 4.8 \n",
            "tick 27    kimg 3045.5   lod 0.92  minibatch 32   time 5h 07m 15s   sec/tick 1528.3  sec/kimg 19.10   maintenance 1.7    gpumem 4.8 \n",
            "tick 28    kimg 3125.5   lod 0.79  minibatch 32   time 5h 41m 50s   sec/tick 2070.9  sec/kimg 25.89   maintenance 4.1    gpumem 4.8 \n",
            "tick 29    kimg 3205.5   lod 0.66  minibatch 32   time 6h 16m 24s   sec/tick 2069.0  sec/kimg 25.86   maintenance 4.2    gpumem 4.8 \n",
            "tick 30    kimg 3285.5   lod 0.52  minibatch 32   time 6h 50m 59s   sec/tick 2071.7  sec/kimg 25.90   maintenance 4.1    gpumem 4.8 \n",
            "network-snapshot-003285        time 6m 14s       fid50k 121.3714  \n",
            "tick 31    kimg 3365.5   lod 0.39  minibatch 32   time 7h 31m 49s   sec/tick 2071.7  sec/kimg 25.90   maintenance 377.9  gpumem 4.8 \n",
            "tick 32    kimg 3445.5   lod 0.26  minibatch 32   time 8h 06m 25s   sec/tick 2072.1  sec/kimg 25.90   maintenance 4.1    gpumem 4.8 \n",
            "tick 33    kimg 3525.5   lod 0.12  minibatch 32   time 8h 41m 01s   sec/tick 2071.7  sec/kimg 25.90   maintenance 4.1    gpumem 4.8 \n",
            "tick 34    kimg 3605.5   lod 0.00  minibatch 32   time 9h 15m 32s   sec/tick 2067.3  sec/kimg 25.84   maintenance 4.1    gpumem 4.8 \n",
            "tick 35    kimg 3685.5   lod 0.00  minibatch 32   time 9h 49m 19s   sec/tick 2022.8  sec/kimg 25.29   maintenance 4.0    gpumem 4.8 \n",
            "tick 36    kimg 3765.5   lod 0.00  minibatch 32   time 10h 23m 06s  sec/tick 2023.0  sec/kimg 25.29   maintenance 3.9    gpumem 4.8 \n",
            "tick 37    kimg 3845.5   lod 0.00  minibatch 32   time 10h 56m 53s  sec/tick 2023.3  sec/kimg 25.29   maintenance 3.9    gpumem 4.8 \n",
            "tick 38    kimg 3925.5   lod 0.00  minibatch 32   time 11h 30m 40s  sec/tick 2022.6  sec/kimg 25.28   maintenance 3.9    gpumem 4.8 \n",
            "tick 39    kimg 4005.5   lod 0.00  minibatch 32   time 12h 04m 25s  sec/tick 2022.0  sec/kimg 25.28   maintenance 3.9    gpumem 4.8 \n",
            "Traceback (most recent call last):\n",
            "  File \"/content/stylegan/train.py\", line 190, in <module>\n",
            "    main()\n",
            "  File \"/content/stylegan/train.py\", line 185, in main\n",
            "    dnnlib.submit_run(**kwargs)\n",
            "  File \"/content/stylegan/dnnlib/submission/submit.py\", line 290, in submit_run\n",
            "    run_wrapper(submit_config)\n",
            "  File \"/content/stylegan/dnnlib/submission/submit.py\", line 242, in run_wrapper\n",
            "    util.call_func_by_name(func_name=submit_config.run_func_name, submit_config=submit_config, **submit_config.run_func_kwargs)\n",
            "  File \"/content/stylegan/dnnlib/util.py\", line 257, in call_func_by_name\n",
            "    return func_obj(*args, **kwargs)\n",
            "  File \"/content/stylegan/training/training_loop.py\", line 230, in training_loop\n",
            "    tflib.run([D_train_op, Gs_update_op], {lod_in: sched.lod, lrate_in: sched.D_lrate, minibatch_in: sched.minibatch})\n",
            "  File \"/content/stylegan/dnnlib/tflib/tfutil.py\", line 26, in run\n",
            "    return tf.get_default_session().run(*args, **kwargs)\n",
            "  File \"/tensorflow-1.15.2/python3.7/tensorflow_core/python/client/session.py\", line 956, in run\n",
            "    run_metadata_ptr)\n",
            "  File \"/tensorflow-1.15.2/python3.7/tensorflow_core/python/client/session.py\", line 1180, in _run\n",
            "    feed_dict_tensor, options, run_metadata)\n",
            "  File \"/tensorflow-1.15.2/python3.7/tensorflow_core/python/client/session.py\", line 1359, in _do_run\n",
            "    run_metadata)\n",
            "  File \"/tensorflow-1.15.2/python3.7/tensorflow_core/python/client/session.py\", line 1365, in _do_call\n",
            "    return fn(*args)\n",
            "  File \"/tensorflow-1.15.2/python3.7/tensorflow_core/python/client/session.py\", line 1350, in _run_fn\n",
            "    target_list, run_metadata)\n",
            "  File \"/tensorflow-1.15.2/python3.7/tensorflow_core/python/client/session.py\", line 1443, in _call_tf_sessionrun\n",
            "    run_metadata)\n",
            "KeyboardInterrupt\n"
          ]
        }
      ]
    },
    {
      "cell_type": "code",
      "metadata": {
        "id": "8PbYUDgV4EXE"
      },
      "source": [
        "!mkdir /content/drive/MyDrive/Star_StyleGAN\n",
        "!cp -v -r -u \"/content/results/00000-sgan-/content/stylegan/datasets/custom-dataset-1gpu/.\" /content/drive/MyDrive/Star_StyleGAN"
      ],
      "execution_count": null,
      "outputs": []
    },
    {
      "cell_type": "code",
      "metadata": {
        "id": "Om0ZTWlX4FCI"
      },
      "source": [
        "!kill $(ps aux | awk '{print $2}')"
      ],
      "execution_count": null,
      "outputs": []
    }
  ]
}